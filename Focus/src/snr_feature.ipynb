{
 "cells": [
  {
   "cell_type": "markdown",
   "metadata": {},
   "source": [
    "# Extração da característica de relação sinal-ruído de dados de EEG\n",
    "\n",
    "A ideia é utilizar dados fictícios de ruído e sinal \"bom\"., para criarmos a relação dos dois sinais e obter como resultado um sinal de interesse \"limpo\".\n",
    "\n",
    "A partir deste sinal, podemos no contexto de caracterização de foco, ainda extrair os rítmos cerebrais ou então classificar sinais com a presença ou não de foco, de forma que as amostras de sinais extraídas de um buffer sejam rotuladas com com a presença ou não de foco.\n",
    "\n",
    "Esta atividade pode ser realizada em conjunto com um classificador comumente utilizado, como é o caso do SVM. Neste caso, uma porcetagem das amostras são utilizadas para treino e o restante para teste (p.e. 30 e 70% respectivamente)."
   ]
  },
  {
   "cell_type": "code",
   "execution_count": 3,
   "metadata": {},
   "outputs": [],
   "source": [
    "# Criando dados fictícios\n",
    "# pensando em um vídeo de 10 minutos, com uma taxa de amostragem de 250 Hz\n",
    "#   teremos 10 * 60 * 250 = 150.000 amostras (sinal com foco)\n",
    "#   teremos 1 * 60 * 250 = 15.000 amostras (basal)\n",
    "\n",
    "import numpy as np\n",
    "\n",
    "\n",
    "shape = (150000, 8)\n",
    "data_focus = np.random.normal(loc=0, scale=10, size=shape).astype(np.float32)\n",
    "\n",
    "shape = (15000, 8)\n",
    "data_base = np.random.normal(loc=0, scale=10, size=shape).astype(np.float32)"
   ]
  },
  {
   "cell_type": "code",
   "execution_count": 6,
   "metadata": {},
   "outputs": [
    {
     "name": "stdout",
     "output_type": "stream",
     "text": [
      "1507415.2\n"
     ]
    }
   ],
   "source": [
    "# Estimando o ruído de fundo (utilizando o sinal basal)\n",
    "\n",
    "# armazena uma lista com as médias de potência para cada canal\n",
    "noise_power = []\n",
    "for channel_data in data_base.T:\n",
    "    fft_result = np.fft.fft(channel_data)\n",
    "    # densidade espectral de potência (PSD)\n",
    "    psd = np.abs(fft_result) ** 2\n",
    "    # média da potência no intervalo de tempo sem estímulo\n",
    "    base_power = np.mean(psd)\n",
    "    noise_power.append(base_power)\n",
    "# média das médias de potência de todos os canais para estimar o ruído de fundo\n",
    "estimated_background_noise = np.mean(noise_power)\n",
    "print(estimated_background_noise)"
   ]
  },
  {
   "cell_type": "markdown",
   "metadata": {},
   "source": [
    "Vamos calcular o SNR de \"banda estreita\". Pode ser observado pela seguinte equação:\n",
    "\n",
    "$SNR_{banda\\ estreita} = 10 \\cdot \\log_{10}\\left(\\frac{\\text{energia total do espectro}}{\\text{média das amplitudes nas frequências vizinhas}}\\right)$\n",
    "\n",
    "Já o SNR de banda larga é definido da seguinte forma:\n",
    "\n",
    "$SNR_{banda\\ larga} = 10 \\cdot \\log_{10}\\left(\\frac{\\text{energia total do espectro}}{\\text{energia total do espectro de amplitude}}\\right)$"
   ]
  },
  {
   "cell_type": "code",
   "execution_count": 9,
   "metadata": {},
   "outputs": [
    {
     "name": "stdout",
     "output_type": "stream",
     "text": [
      "[[        nan  9.401269           nan ...         nan  2.9831462\n",
      "          nan]\n",
      " [        nan         nan         nan ...  9.281207           nan\n",
      "          nan]\n",
      " [        nan  8.027126   10.173944   ...  9.4063635          nan\n",
      "   9.69626   ]\n",
      " ...\n",
      " [ 1.614929   -0.05026207  5.9073105  ...         nan  9.621689\n",
      "   6.9831777 ]\n",
      " [13.913423    3.1487334          nan ...         nan 12.691887\n",
      "  12.565821  ]\n",
      " [        nan         nan         nan ...  1.2228951  -2.109276\n",
      "   0.10015392]]\n",
      "(150000, 8)\n",
      "[[-52.173462        nan -55.80818  ... -47.119846        nan -51.672825]\n",
      " [-53.213123 -54.71786  -58.384212 ...        nan -52.377968 -51.459293]\n",
      " [-54.411148        nan        nan ...        nan -48.132893        nan]\n",
      " ...\n",
      " [       nan        nan        nan ... -47.17713         nan        nan]\n",
      " [       nan        nan -50.74326  ... -52.89728         nan        nan]\n",
      " [-55.696777 -50.52421  -60.08892  ...        nan        nan        nan]]\n",
      "(150000, 8)\n"
     ]
    },
    {
     "name": "stderr",
     "output_type": "stream",
     "text": [
      "/tmp/ipykernel_6508/1008779610.py:9: RuntimeWarning: invalid value encountered in log10\n",
      "  narrow_band_SNR = 10 * np.log10(target_amplitudes_adjusted / estimated_background_noise)\n",
      "/tmp/ipykernel_6508/1008779610.py:14: RuntimeWarning: invalid value encountered in log10\n",
      "  wide_band_SNR = 10 * np.log10(target_amplitudes_adjusted / total_power)\n"
     ]
    }
   ],
   "source": [
    "# agora vamos adaptar ambas características \n",
    "# aplicando para o nosso sinal de interesse\n",
    "\n",
    "# forçando (estragando) valor de \"estimated_background_noise\" para não sobrar valores negativos\n",
    "target_amplitudes_adjusted = data_focus - estimated_background_noise\n",
    "\n",
    "# subtraindo o ruído de fundo das amplitudes\n",
    "narrow_band_SNR = 10 * np.log10(target_amplitudes_adjusted / estimated_background_noise)\n",
    "print(narrow_band_SNR)\n",
    "print(narrow_band_SNR.shape)\n",
    "\n",
    "total_power = np.sum(target_amplitudes_adjusted)\n",
    "wide_band_SNR = 10 * np.log10(target_amplitudes_adjusted / total_power)\n",
    "print(wide_band_SNR)\n",
    "print(wide_band_SNR.shape)\n"
   ]
  },
  {
   "cell_type": "markdown",
   "metadata": {},
   "source": [
    "### Tarefa para aplicação das características SNR:\n",
    "\n",
    "Agora que temos os dois vetores de características SNR, podemos utilizar buffers com e sem a evocação dos rítmos que caracterizam o foco.\n",
    "\n",
    "Fiquem livres para testar essas característica utilizando o formato empírico visto até o momento ou criando dados de treinamento e teste para serem submetidos a um classificador."
   ]
  }
 ],
 "metadata": {
  "kernelspec": {
   "display_name": "venv",
   "language": "python",
   "name": "python3"
  },
  "language_info": {
   "codemirror_mode": {
    "name": "ipython",
    "version": 3
   },
   "file_extension": ".py",
   "mimetype": "text/x-python",
   "name": "python",
   "nbconvert_exporter": "python",
   "pygments_lexer": "ipython3",
   "version": "3.10.12"
  }
 },
 "nbformat": 4,
 "nbformat_minor": 2
}
