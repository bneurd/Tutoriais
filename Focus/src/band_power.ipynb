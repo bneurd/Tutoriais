{
 "cells": [
  {
   "cell_type": "code",
   "execution_count": 5,
   "metadata": {},
   "outputs": [],
   "source": [
    "from scipy.signal import welch\n",
    "import mne"
   ]
  },
  {
   "cell_type": "code",
   "execution_count": 9,
   "metadata": {},
   "outputs": [
    {
     "name": "stdout",
     "output_type": "stream",
     "text": [
      "Opening raw data file ../data_filtered.fif...\n",
      "    Range : 0 ... 161442 =      0.000 ...   645.768 secs\n",
      "Ready.\n"
     ]
    },
    {
     "name": "stderr",
     "output_type": "stream",
     "text": [
      "/tmp/ipykernel_62430/3801545187.py:1: RuntimeWarning: This filename (../data_filtered.fif) does not conform to MNE naming conventions. All raw files should end with raw.fif, raw_sss.fif, raw_tsss.fif, _meg.fif, _eeg.fif, _ieeg.fif, raw.fif.gz, raw_sss.fif.gz, raw_tsss.fif.gz, _meg.fif.gz, _eeg.fif.gz or _ieeg.fif.gz\n",
      "  mne_data = mne.io.read_raw_fif('../data_filtered.fif')\n"
     ]
    },
    {
     "ename": "IndexError",
     "evalue": "boolean index did not match indexed array along dimension 0; dimension is 8 but corresponding boolean dimension is 33",
     "output_type": "error",
     "traceback": [
      "\u001b[0;31m---------------------------------------------------------------------------\u001b[0m",
      "\u001b[0;31mIndexError\u001b[0m                                Traceback (most recent call last)",
      "Cell \u001b[0;32mIn[9], line 15\u001b[0m\n\u001b[1;32m     13\u001b[0m \u001b[38;5;28;01mfor\u001b[39;00m band, (low, high) \u001b[38;5;129;01min\u001b[39;00m \u001b[38;5;28mzip\u001b[39m((\u001b[38;5;124m'\u001b[39m\u001b[38;5;124mtheta\u001b[39m\u001b[38;5;124m'\u001b[39m, \u001b[38;5;124m'\u001b[39m\u001b[38;5;124malpha\u001b[39m\u001b[38;5;124m'\u001b[39m, \u001b[38;5;124m'\u001b[39m\u001b[38;5;124mbeta\u001b[39m\u001b[38;5;124m'\u001b[39m, \u001b[38;5;124m'\u001b[39m\u001b[38;5;124mgamma\u001b[39m\u001b[38;5;124m'\u001b[39m), (theta, alpha, beta, gamma)):\n\u001b[1;32m     14\u001b[0m     freq_idx \u001b[38;5;241m=\u001b[39m (freqs \u001b[38;5;241m>\u001b[39m\u001b[38;5;241m=\u001b[39m low) \u001b[38;5;241m&\u001b[39m (freqs \u001b[38;5;241m<\u001b[39m high)\n\u001b[0;32m---> 15\u001b[0m     band_power[band] \u001b[38;5;241m=\u001b[39m \u001b[43mpsd\u001b[49m\u001b[43m[\u001b[49m\u001b[43mfreq_idx\u001b[49m\u001b[43m]\u001b[49m\u001b[38;5;241m.\u001b[39mmean()\n\u001b[1;32m     16\u001b[0m \u001b[38;5;28mprint\u001b[39m(band_power)\n\u001b[1;32m     18\u001b[0m \u001b[38;5;66;03m# Finalizar a implementação do cálculo da potência média|soma|max \u001b[39;00m\n\u001b[1;32m     19\u001b[0m \u001b[38;5;66;03m# para cada banda. E por fim, pontuar qual banda está mais ativa\u001b[39;00m\n\u001b[1;32m     20\u001b[0m \u001b[38;5;66;03m# durante o sinal.\u001b[39;00m\n",
      "\u001b[0;31mIndexError\u001b[0m: boolean index did not match indexed array along dimension 0; dimension is 8 but corresponding boolean dimension is 33"
     ]
    }
   ],
   "source": [
    "mne_data = mne.io.read_raw_fif('../data_filtered.fif')\n",
    "\n",
    "# loop para variar tmin e tmax até o final do sinal\n",
    "data = mne_data.get_data(tmin=0, tmax=5)\n",
    "freqs, psd = welch(data, fs=mne_data.info['sfreq'], nperseg=64, noverlap=32)\n",
    "\n",
    "theta = (4, 8)\n",
    "alpha = (8, 13)\n",
    "beta = (13, 30)\n",
    "gamma = (30, 100)\n",
    "\n",
    "band_power = dict()\n",
    "for band, (low, high) in zip(('theta', 'alpha', 'beta', 'gamma'), (theta, alpha, beta, gamma)):\n",
    "    # corrigir para pegar um array das frequencias de cada banda\n",
    "    # freq_idx = (freqs >= low) & (freqs < high)\n",
    "    band_power[band] = psd[freq_idx].mean()\n",
    "print(band_power)\n",
    "\n",
    "# Finalizar a implementação do cálculo da potência média|soma|max \n",
    "# para cada banda. E por fim, pontuar qual banda está mais ativa\n",
    "# durante o sinal."
   ]
  }
 ],
 "metadata": {
  "kernelspec": {
   "display_name": "venv",
   "language": "python",
   "name": "python3"
  },
  "language_info": {
   "codemirror_mode": {
    "name": "ipython",
    "version": 3
   },
   "file_extension": ".py",
   "mimetype": "text/x-python",
   "name": "python",
   "nbconvert_exporter": "python",
   "pygments_lexer": "ipython3",
   "version": "3.10.12"
  }
 },
 "nbformat": 4,
 "nbformat_minor": 2
}
