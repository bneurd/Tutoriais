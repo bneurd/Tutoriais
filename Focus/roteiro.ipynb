{
 "cells": [
  {
   "cell_type": "markdown",
   "metadata": {},
   "source": [
    "# Roteiro de trabalho\n",
    "\n",
    "### Tempos dos vídeos\n",
    "- (IT) Insulina Tradicional (15:00) $\\rightarrow$ 900 segundos\n",
    "- (GT) Glucagon Tradicional (14:57) $\\rightarrow$ 897 segundos\n",
    "- (IA) Insulina Ativa (19:26) $\\rightarrow$ 1166 segundos\n",
    "- (GA) Glucagon Ativa (20:43) $\\rightarrow$ 1243 segundos\n",
    "\n",
    "### Participante deste roteiro:\n",
    "- Daniella: IT e GA"
   ]
  },
  {
   "cell_type": "code",
   "execution_count": 74,
   "metadata": {},
   "outputs": [],
   "source": [
    "# imports de bibliotecas\n",
    "\n",
    "import numpy as np\n",
    "import mne\n",
    "from scipy.signal import welch\n",
    "import matplotlib.pyplot as plt"
   ]
  },
  {
   "cell_type": "code",
   "execution_count": 75,
   "metadata": {},
   "outputs": [
    {
     "data": {
      "text/html": [
       "<details open>\n",
       "    <summary><strong>General</strong></summary>\n",
       "    <table class=\"table table-hover table-striped table-sm table-responsive small\">\n",
       "        <tr>\n",
       "            <th>Measurement date</th>\n",
       "            \n",
       "            <td>Unknown</td>\n",
       "            \n",
       "        </tr>\n",
       "        <tr>\n",
       "            <th>Experimenter</th>\n",
       "            \n",
       "            <td>Unknown</td>\n",
       "            \n",
       "        </tr>\n",
       "        <tr>\n",
       "            <th>Participant</th>\n",
       "            \n",
       "            <td>Unknown</td>\n",
       "            \n",
       "        </tr>\n",
       "    </table>\n",
       "    </details>\n",
       "    <details open>\n",
       "        <summary><strong>Channels</strong></summary>\n",
       "        <table class=\"table table-hover table-striped table-sm table-responsive small\">\n",
       "            <tr>\n",
       "                <th>Digitized points</th>\n",
       "                \n",
       "                <td>11 points</td>\n",
       "                \n",
       "            </tr>\n",
       "            <tr>\n",
       "                <th>Good channels</th>\n",
       "                <td>8 EEG</td>\n",
       "            </tr>\n",
       "            <tr>\n",
       "                <th>Bad channels</th>\n",
       "                <td>None</td>\n",
       "            </tr>\n",
       "            <tr>\n",
       "                <th>EOG channels</th>\n",
       "                <td>Not available</td>\n",
       "            </tr>\n",
       "            <tr>\n",
       "                <th>ECG channels</th>\n",
       "                <td>Not available</td>\n",
       "            </tr>\n",
       "        </table>\n",
       "        </details>\n",
       "        <details open>\n",
       "            <summary><strong>Data</strong></summary>\n",
       "            <table class=\"table table-hover table-striped table-sm table-responsive small\">\n",
       "                \n",
       "                <tr>\n",
       "                    <th>Sampling frequency</th>\n",
       "                    <td>250.00 Hz</td>\n",
       "                </tr>\n",
       "                \n",
       "                \n",
       "                <tr>\n",
       "                    <th>Highpass</th>\n",
       "                    <td>0.00 Hz</td>\n",
       "                </tr>\n",
       "                \n",
       "                \n",
       "                <tr>\n",
       "                    <th>Lowpass</th>\n",
       "                    <td>125.00 Hz</td>\n",
       "                </tr>\n",
       "                \n",
       "                \n",
       "                \n",
       "                \n",
       "            </table>\n",
       "            </details>"
      ],
      "text/plain": [
       "<Info | 8 non-empty values\n",
       " bads: []\n",
       " ch_names: F3, Fz, F4, C3, Cz, C4, P3, P4\n",
       " chs: 8 EEG\n",
       " custom_ref_applied: False\n",
       " dig: 11 items (3 Cardinal, 8 EEG)\n",
       " highpass: 0.0 Hz\n",
       " lowpass: 125.0 Hz\n",
       " meas_date: unspecified\n",
       " nchan: 8\n",
       " projs: []\n",
       " sfreq: 250.0 Hz\n",
       ">"
      ]
     },
     "execution_count": 75,
     "metadata": {},
     "output_type": "execute_result"
    }
   ],
   "source": [
    "# definição do info (MNE)\n",
    "\n",
    "n_channels = 8\n",
    "ch_types = ['eeg'] * n_channels\n",
    "sfreq = 250\n",
    "ch_names = [\"F3\", \"Fz\", \"F4\", \"C3\", \"Cz\", \"C4\", \"P3\", \"P4\"]\n",
    "info = mne.create_info(ch_names=ch_names, sfreq=sfreq, ch_types=ch_types)\n",
    "info.set_montage(\"standard_1020\")"
   ]
  },
  {
   "cell_type": "code",
   "execution_count": 76,
   "metadata": {},
   "outputs": [
    {
     "name": "stdout",
     "output_type": "stream",
     "text": [
      "Creating RawArray with float64 data, n_channels=8, n_times=310751\n",
      "    Range : 0 ... 310750 =      0.000 ...  1243.000 secs\n",
      "Ready.\n",
      "Creating RawArray with float64 data, n_channels=8, n_times=31251\n",
      "    Range : 0 ... 31250 =      0.000 ...   125.000 secs\n",
      "Ready.\n"
     ]
    }
   ],
   "source": [
    "# aula -> 99750 até 296500 (ga1) | 5250 até 119250 (ga2) [1243 segundos]\n",
    "# teste -> 126750 até 158000 (ga2) [125 segundos]\n",
    "ga = ['base/Daniella/GA/OpenBCI-RAW-2023-10-26_12-43-47.txt',\n",
    "      'base/Daniella/GA/OpenBCI-RAW-2023-10-26_13-06-25.txt']\n",
    "ga_ob = [np.loadtxt(txt, delimiter=',', skiprows=5, usecols=range(1, 9)) for txt in ga]\n",
    "data_ga = np.concatenate((ga_ob[0][99750:296501,:], ga_ob[1][5250:119250,:]))\n",
    "data_ga_test = ga_ob[1][126750:158001,:]\n",
    "\n",
    "X = {\n",
    "    'ga': mne.io.RawArray(data_ga.T, info),\n",
    "    'ga_test': mne.io.RawArray(data_ga_test.T, info),\n",
    "}"
   ]
  },
  {
   "cell_type": "code",
   "execution_count": 77,
   "metadata": {},
   "outputs": [
    {
     "name": "stdout",
     "output_type": "stream",
     "text": [
      "Filtering raw data in 1 contiguous segment\n",
      "Setting up band-stop filter from 59 - 61 Hz\n",
      "\n",
      "FIR filter parameters\n",
      "---------------------\n",
      "Designing a one-pass, zero-phase, non-causal bandstop filter:\n",
      "- Windowed time-domain design (firwin) method\n",
      "- Hamming window with 0.0194 passband ripple and 53 dB stopband attenuation\n",
      "- Lower passband edge: 59.35\n",
      "- Lower transition bandwidth: 0.50 Hz (-6 dB cutoff frequency: 59.10 Hz)\n",
      "- Upper passband edge: 60.65 Hz\n",
      "- Upper transition bandwidth: 0.50 Hz (-6 dB cutoff frequency: 60.90 Hz)\n",
      "- Filter length: 1651 samples (6.604 s)\n",
      "\n",
      "Filtering raw data in 1 contiguous segment\n",
      "Setting up band-pass filter from 4 - 1e+02 Hz\n",
      "\n",
      "FIR filter parameters\n",
      "---------------------\n",
      "Designing a one-pass, zero-phase, non-causal bandpass filter:\n",
      "- Windowed time-domain design (firwin) method\n",
      "- Hamming window with 0.0194 passband ripple and 53 dB stopband attenuation\n",
      "- Lower passband edge: 4.00\n",
      "- Lower transition bandwidth: 2.00 Hz (-6 dB cutoff frequency: 3.00 Hz)\n",
      "- Upper passband edge: 100.00 Hz\n",
      "- Upper transition bandwidth: 25.00 Hz (-6 dB cutoff frequency: 112.50 Hz)\n",
      "- Filter length: 413 samples (1.652 s)\n",
      "\n",
      "Filtering raw data in 1 contiguous segment\n",
      "Setting up band-stop filter from 59 - 61 Hz\n",
      "\n",
      "FIR filter parameters\n",
      "---------------------\n",
      "Designing a one-pass, zero-phase, non-causal bandstop filter:\n",
      "- Windowed time-domain design (firwin) method\n",
      "- Hamming window with 0.0194 passband ripple and 53 dB stopband attenuation\n",
      "- Lower passband edge: 59.35\n",
      "- Lower transition bandwidth: 0.50 Hz (-6 dB cutoff frequency: 59.10 Hz)\n",
      "- Upper passband edge: 60.65 Hz\n",
      "- Upper transition bandwidth: 0.50 Hz (-6 dB cutoff frequency: 60.90 Hz)\n",
      "- Filter length: 1651 samples (6.604 s)\n",
      "\n",
      "Filtering raw data in 1 contiguous segment\n",
      "Setting up band-pass filter from 4 - 1e+02 Hz\n",
      "\n",
      "FIR filter parameters\n",
      "---------------------\n",
      "Designing a one-pass, zero-phase, non-causal bandpass filter:\n",
      "- Windowed time-domain design (firwin) method\n",
      "- Hamming window with 0.0194 passband ripple and 53 dB stopband attenuation\n",
      "- Lower passband edge: 4.00\n",
      "- Lower transition bandwidth: 2.00 Hz (-6 dB cutoff frequency: 3.00 Hz)\n",
      "- Upper passband edge: 100.00 Hz\n",
      "- Upper transition bandwidth: 25.00 Hz (-6 dB cutoff frequency: 112.50 Hz)\n",
      "- Filter length: 413 samples (1.652 s)\n",
      "\n"
     ]
    }
   ],
   "source": [
    "# filtragem de todos os dados\n",
    "\n",
    "for key in X:\n",
    "    X[key].notch_filter(freqs=60)\n",
    "    X[key].filter(l_freq=4, h_freq=100)"
   ]
  },
  {
   "cell_type": "code",
   "execution_count": 78,
   "metadata": {},
   "outputs": [
    {
     "name": "stdout",
     "output_type": "stream",
     "text": [
      "<RawArray | 8 x 310751 (1243.0 s), ~19.0 MB, data loaded>\n",
      "<RawArray | 8 x 31251 (125.0 s), ~1.9 MB, data loaded>\n",
      "{'ga': [19.31, 0.0, 74.5, 6.19], 'ga_test': [44.0, 0.0, 48.0, 8.0]}\n"
     ]
    }
   ],
   "source": [
    "import sys\n",
    "\n",
    "sr = 250            # taxa de amostragem\n",
    "jump = 5            # 5 segundos de buffer\n",
    "size = sr * jump    # quantidade de pontos avaliados\n",
    "\n",
    "# Definir os limites das bandas de frequência (em Hz)\n",
    "theta_band = (4, 8)       # Theta: 4 - 8 Hz\n",
    "alpha_band = (8, 13)      # Alpha: 8 - 13 Hz\n",
    "beta_band = (13, 30)      # Beta: 13 - 30 Hz\n",
    "gamma_band = (30, 100)    # Gamma: 30 - 100 Hz\n",
    "\n",
    "total_pc = {}\n",
    "data_names = ('ga', 'ga_test')\n",
    "for k, data in enumerate(X.values()):\n",
    "    results = [0, 0, 0, 0]\n",
    "    for i in range(0, len(data)-1, sr):\n",
    "        # Isso faz parte da TAREFA 1 explicada logo abaixo.\n",
    "        # Para aplicar o set_eeg_reference, é necessário que os dados\n",
    "        # estejam no objeto RawArray, que é o objeto que contém o método.\n",
    "        # O slice deve ser obtido diretamente do objeto MNE, tendo que \n",
    "        # nesse caso modificar todos o laço de controle.\n",
    "        cut = data.get_data(start=i, stop=i+size)\n",
    "        # Número de pontos por segmento\n",
    "        nperseg = 128\n",
    "        # Quantidade de sobreposição entre segmentos\n",
    "        noverlap = nperseg // 2\n",
    "        \n",
    "        freqs, psd = welch(cut, fs=sr, nperseg=nperseg, noverlap=noverlap)\n",
    "        \n",
    "        # TAREFA 1 (APLICANDO UM FILTRO ESPACIAL NO DADOS)\n",
    "        # realizando a média dos 8 eletrodos\n",
    "        # no caso do trabalho, analizar os canais separadamente.\n",
    "        #   Para isso, vamos aplicar o filtro espacial, no qual\n",
    "        #   podemos utilizar algoritmos específicos para a análise\n",
    "        #   de EEG utilizando o CAR (Common Average Reference).\n",
    "        #   Na biblioteca MNE existe o método set_eeg_reference, que\n",
    "        #       pode ser utilizado para aplicar o filtro espacial.\n",
    "        X = np.average(psd, axis=0)\n",
    "\n",
    "        # Encontrar os índices correspondentes às frequências de interesse\n",
    "        theta_idxs = np.where((freqs >= theta_band[0]) & (freqs <= theta_band[1]))[0]\n",
    "        alpha_idxs = np.where((freqs >= alpha_band[0]) & (freqs <= alpha_band[1]))[0]\n",
    "        beta_idxs = np.where((freqs >= beta_band[0]) & (freqs <= beta_band[1]))[0]\n",
    "        gamma_idxs = np.where((freqs >= gamma_band[0]) & (freqs <= gamma_band[1]))[0]\n",
    "\n",
    "        # Calcular a potência em cada banda de frequência por meio da integração da PSD\n",
    "        bands = [np.sum(X[theta_idxs]), np.sum(X[alpha_idxs]), np.sum(X[beta_idxs]), np.sum(X[gamma_idxs])]\n",
    "        # calculando a pontuação de cada banda para mostrar a porcentagem futura\n",
    "        results[np.argmax(bands)] += 1\n",
    "\n",
    "    total = sum(results)\n",
    "    percentages = [round((count/total) * 100, 2) for count in results]\n",
    "    print(data.__str__())\n",
    "    total_pc[data_names[k]] = percentages\n",
    "\n",
    "print(total_pc)"
   ]
  },
  {
   "cell_type": "markdown",
   "metadata": {},
   "source": [
    "**Tarefa 2**: Observar por meio dos códigos, os 3 principais rítmos de interesse (Theta, Beta e Gama), com tempos mais específicos do experimento. Ou seja, até o momento, observamos as porcentagens olhando para todo experimento. Então mesmo obtendo um valor de Beta às vezes baixo, em algum momento considerável da aula assistida, ele pode estar alto. Faça uma análise mais detalhada desses momentos.\n",
    "\n",
    "Mostre também gráficos no domínio da frequência e/ou espectrograma.\n",
    "\n",
    "Observação: Para descobrir os segmentos de interesse, deve-se analisar os dados diretamente no software OpenBCI GUI. Posteriormente, pegue os mesmas faixas de tempo, e realize os recortes no código em python para constar a prova de conceito."
   ]
  },
  {
   "cell_type": "markdown",
   "metadata": {},
   "source": [
    "Mostrando os gráficos de barra dos resultados."
   ]
  },
  {
   "cell_type": "code",
   "execution_count": 79,
   "metadata": {},
   "outputs": [],
   "source": [
    "from matplotlib import rcParams\n",
    "\n",
    "rcParams['figure.figsize'] = [6., 4.]\n",
    "\n",
    "def plot_bar(x):\n",
    "    colors = ('orange', 'green', 'blue', 'purple')\n",
    "    bars = plt.bar(('theta', 'alpha', 'beta', 'gamma'), x, color=colors)\n",
    "    for bar in bars:\n",
    "        yval = bar.get_height()\n",
    "        plt.text(bar.get_x() + bar.get_width()/2, yval, round(yval, 2), ha='center', va='bottom')\n",
    "    plt.title('Porcentagem da potência em cada banda de frequência')\n",
    "    plt.xlabel('Banda de Frequência')\n",
    "    plt.ylabel('Porcentagem durante a atividade')\n",
    "\n",
    "    # Exibir o gráfico\n",
    "    plt.show()"
   ]
  },
  {
   "cell_type": "markdown",
   "metadata": {},
   "source": [
    "Aplicando os valores de porcentagens obtidos na função de gráfico"
   ]
  },
  {
   "cell_type": "code",
   "execution_count": 80,
   "metadata": {},
   "outputs": [
    {
     "name": "stdout",
     "output_type": "stream",
     "text": [
      "Glucagon Ativa\n"
     ]
    },
    {
     "data": {
      "image/png": "[encoded data removed]",
      "text/plain": [
       "<Figure size 600x400 with 1 Axes>"
      ]
     },
     "metadata": {},
     "output_type": "display_data"
    },
    {
     "name": "stdout",
     "output_type": "stream",
     "text": [
      "Glucagon Ativa - Teste\n"
     ]
    },
    {
     "data": {
      "image/png": "[encoded data removed]",
      "text/plain": [
       "<Figure size 600x400 with 1 Axes>"
      ]
     },
     "metadata": {},
     "output_type": "display_data"
    }
   ],
   "source": [
    "print('Glucagon Ativa')\n",
    "plot_bar(total_pc['ga'])\n",
    "print('Glucagon Ativa - Teste')\n",
    "plot_bar(total_pc['ga_test'])"
   ]
  }
 ],
 "metadata": {
  "kernelspec": {
   "display_name": "venv",
   "language": "python",
   "name": "python3"
  },
  "language_info": {
   "codemirror_mode": {
    "name": "ipython",
    "version": 3
   },
   "file_extension": ".py",
   "mimetype": "text/x-python",
   "name": "python",
   "nbconvert_exporter": "python",
   "pygments_lexer": "ipython3",
   "version": "3.10.12"
  }
 },
 "nbformat": 4,
 "nbformat_minor": 2
}
